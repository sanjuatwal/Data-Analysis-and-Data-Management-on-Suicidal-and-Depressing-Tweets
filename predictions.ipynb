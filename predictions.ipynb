{
 "cells": [
  {
   "cell_type": "code",
   "execution_count": 93,
   "metadata": {
    "id": "neUuE799dg3G"
   },
   "outputs": [],
   "source": [
    "import pandas as pd"
   ]
  },
  {
   "cell_type": "code",
   "execution_count": 94,
   "metadata": {},
   "outputs": [],
   "source": [
    "data = pd.read_csv('data/data_for_prediction.csv')"
   ]
  },
  {
   "cell_type": "code",
   "execution_count": 95,
   "metadata": {},
   "outputs": [],
   "source": [
    "data['is_normal'] = 0"
   ]
  },
  {
   "cell_type": "code",
   "execution_count": 96,
   "metadata": {},
   "outputs": [
    {
     "data": {
      "text/html": [
       "<div>\n",
       "<style scoped>\n",
       "    .dataframe tbody tr th:only-of-type {\n",
       "        vertical-align: middle;\n",
       "    }\n",
       "\n",
       "    .dataframe tbody tr th {\n",
       "        vertical-align: top;\n",
       "    }\n",
       "\n",
       "    .dataframe thead th {\n",
       "        text-align: right;\n",
       "    }\n",
       "</style>\n",
       "<table border=\"1\" class=\"dataframe\">\n",
       "  <thead>\n",
       "    <tr style=\"text-align: right;\">\n",
       "      <th></th>\n",
       "      <th>title</th>\n",
       "      <th>selftext</th>\n",
       "      <th>author</th>\n",
       "      <th>num_comments</th>\n",
       "      <th>is_suicide</th>\n",
       "      <th>url</th>\n",
       "      <th>selftext_clean</th>\n",
       "      <th>title_clean</th>\n",
       "      <th>selftext_length</th>\n",
       "      <th>title_length</th>\n",
       "      <th>is_normal</th>\n",
       "    </tr>\n",
       "  </thead>\n",
       "  <tbody>\n",
       "    <tr>\n",
       "      <th>0</th>\n",
       "      <td>Our most-broken and least-understood rules is ...</td>\n",
       "      <td>We understand that most people who reply immed...</td>\n",
       "      <td>SQLwitch</td>\n",
       "      <td>175</td>\n",
       "      <td>0</td>\n",
       "      <td>https://www.reddit.com/r/depression/comments/d...</td>\n",
       "      <td>understand people reply immediately op invitat...</td>\n",
       "      <td>broken least understood rule helper may invite...</td>\n",
       "      <td>4792</td>\n",
       "      <td>144</td>\n",
       "      <td>0</td>\n",
       "    </tr>\n",
       "    <tr>\n",
       "      <th>1</th>\n",
       "      <td>Regular Check-In Post, with important reminder...</td>\n",
       "      <td>Welcome to /r/depression's check-in post - a p...</td>\n",
       "      <td>SQLwitch</td>\n",
       "      <td>1984</td>\n",
       "      <td>0</td>\n",
       "      <td>https://www.reddit.com/r/depression/comments/m...</td>\n",
       "      <td>welcome r depression check post place take mom...</td>\n",
       "      <td>regular check post important reminder private ...</td>\n",
       "      <td>1651</td>\n",
       "      <td>98</td>\n",
       "      <td>0</td>\n",
       "    </tr>\n",
       "    <tr>\n",
       "      <th>2</th>\n",
       "      <td>I just tried to kill myself and my family didn...</td>\n",
       "      <td>I tried to hang myself and it happened like th...</td>\n",
       "      <td>untitled_HumanBeing</td>\n",
       "      <td>27</td>\n",
       "      <td>0</td>\n",
       "      <td>https://www.reddit.com/r/depression/comments/o...</td>\n",
       "      <td>tried hang happened like first lost conscious ...</td>\n",
       "      <td>tried kill family give fuck</td>\n",
       "      <td>868</td>\n",
       "      <td>61</td>\n",
       "      <td>0</td>\n",
       "    </tr>\n",
       "    <tr>\n",
       "      <th>3</th>\n",
       "      <td>my body feels like i'm 80</td>\n",
       "      <td>i'm in my 30s but my body feels like im 80. it...</td>\n",
       "      <td>elaapvy</td>\n",
       "      <td>10</td>\n",
       "      <td>0</td>\n",
       "      <td>https://www.reddit.com/r/depression/comments/o...</td>\n",
       "      <td>30 body feel like im 80 weak fragile feel like...</td>\n",
       "      <td>body feel like 80</td>\n",
       "      <td>112</td>\n",
       "      <td>25</td>\n",
       "      <td>0</td>\n",
       "    </tr>\n",
       "    <tr>\n",
       "      <th>4</th>\n",
       "      <td>Nsfw : I only have two moods</td>\n",
       "      <td>1) I want to have sex.\\n2) I want to die\\n\\nED...</td>\n",
       "      <td>cherryboom0</td>\n",
       "      <td>141</td>\n",
       "      <td>0</td>\n",
       "      <td>https://www.reddit.com/r/depression/comments/o...</td>\n",
       "      <td>1 want sex 2 want die edit expect post blow ms...</td>\n",
       "      <td>nsfw two mood</td>\n",
       "      <td>193</td>\n",
       "      <td>28</td>\n",
       "      <td>0</td>\n",
       "    </tr>\n",
       "  </tbody>\n",
       "</table>\n",
       "</div>"
      ],
      "text/plain": [
       "                                               title  \\\n",
       "0  Our most-broken and least-understood rules is ...   \n",
       "1  Regular Check-In Post, with important reminder...   \n",
       "2  I just tried to kill myself and my family didn...   \n",
       "3                          my body feels like i'm 80   \n",
       "4                       Nsfw : I only have two moods   \n",
       "\n",
       "                                            selftext               author  \\\n",
       "0  We understand that most people who reply immed...             SQLwitch   \n",
       "1  Welcome to /r/depression's check-in post - a p...             SQLwitch   \n",
       "2  I tried to hang myself and it happened like th...  untitled_HumanBeing   \n",
       "3  i'm in my 30s but my body feels like im 80. it...              elaapvy   \n",
       "4  1) I want to have sex.\\n2) I want to die\\n\\nED...          cherryboom0   \n",
       "\n",
       "   num_comments  is_suicide  \\\n",
       "0           175           0   \n",
       "1          1984           0   \n",
       "2            27           0   \n",
       "3            10           0   \n",
       "4           141           0   \n",
       "\n",
       "                                                 url  \\\n",
       "0  https://www.reddit.com/r/depression/comments/d...   \n",
       "1  https://www.reddit.com/r/depression/comments/m...   \n",
       "2  https://www.reddit.com/r/depression/comments/o...   \n",
       "3  https://www.reddit.com/r/depression/comments/o...   \n",
       "4  https://www.reddit.com/r/depression/comments/o...   \n",
       "\n",
       "                                      selftext_clean  \\\n",
       "0  understand people reply immediately op invitat...   \n",
       "1  welcome r depression check post place take mom...   \n",
       "2  tried hang happened like first lost conscious ...   \n",
       "3  30 body feel like im 80 weak fragile feel like...   \n",
       "4  1 want sex 2 want die edit expect post blow ms...   \n",
       "\n",
       "                                         title_clean  selftext_length  \\\n",
       "0  broken least understood rule helper may invite...             4792   \n",
       "1  regular check post important reminder private ...             1651   \n",
       "2                        tried kill family give fuck              868   \n",
       "3                                  body feel like 80              112   \n",
       "4                                      nsfw two mood              193   \n",
       "\n",
       "   title_length  is_normal  \n",
       "0           144          0  \n",
       "1            98          0  \n",
       "2            61          0  \n",
       "3            25          0  \n",
       "4            28          0  "
      ]
     },
     "execution_count": 96,
     "metadata": {},
     "output_type": "execute_result"
    }
   ],
   "source": [
    "data.head()"
   ]
  },
  {
   "cell_type": "code",
   "execution_count": 97,
   "metadata": {
    "id": "7lDqRxaad5Y2"
   },
   "outputs": [],
   "source": [
    "normal = pd.read_csv(\"data/normal.csv\")"
   ]
  },
  {
   "cell_type": "code",
   "execution_count": 98,
   "metadata": {
    "id": "g3MFLJ2ZeHQ3"
   },
   "outputs": [],
   "source": [
    "normal = normal[[\"selftext\"]]"
   ]
  },
  {
   "cell_type": "code",
   "execution_count": 99,
   "metadata": {
    "colab": {
     "base_uri": "https://localhost:8080/"
    },
    "id": "hA7vn1vYbVEE",
    "outputId": "34884312-53cf-433a-f21f-c8e0affd4fbc"
   },
   "outputs": [
    {
     "data": {
      "text/plain": [
       "(4141, 1)"
      ]
     },
     "execution_count": 99,
     "metadata": {},
     "output_type": "execute_result"
    }
   ],
   "source": [
    "normal.shape"
   ]
  },
  {
   "cell_type": "code",
   "execution_count": 100,
   "metadata": {
    "colab": {
     "base_uri": "https://localhost:8080/",
     "height": 416
    },
    "id": "r6MtId9YcFP-",
    "outputId": "0771b91b-f08e-46a9-d229-c2c7e414152a"
   },
   "outputs": [],
   "source": [
    "normal = normal.dropna()"
   ]
  },
  {
   "cell_type": "code",
   "execution_count": 101,
   "metadata": {
    "colab": {
     "base_uri": "https://localhost:8080/"
    },
    "id": "XPeIrDpAbNu4",
    "outputId": "8286782d-98a2-4453-df66-6b5463b5b5cf"
   },
   "outputs": [
    {
     "data": {
      "text/plain": [
       "(1951, 1)"
      ]
     },
     "execution_count": 101,
     "metadata": {},
     "output_type": "execute_result"
    }
   ],
   "source": [
    "normal.shape"
   ]
  },
  {
   "cell_type": "code",
   "execution_count": 102,
   "metadata": {
    "id": "VBwInnVCeT8r"
   },
   "outputs": [],
   "source": [
    "normal['is_normal'] = 1\n",
    "normal['is_suicide'] = 0"
   ]
  },
  {
   "cell_type": "code",
   "execution_count": 103,
   "metadata": {
    "colab": {
     "base_uri": "https://localhost:8080/",
     "height": 416
    },
    "id": "jI-lg7Q1GiP5",
    "outputId": "b02736bc-1b1c-456e-c56f-01376aa83286"
   },
   "outputs": [
    {
     "data": {
      "text/html": [
       "<div>\n",
       "<style scoped>\n",
       "    .dataframe tbody tr th:only-of-type {\n",
       "        vertical-align: middle;\n",
       "    }\n",
       "\n",
       "    .dataframe tbody tr th {\n",
       "        vertical-align: top;\n",
       "    }\n",
       "\n",
       "    .dataframe thead th {\n",
       "        text-align: right;\n",
       "    }\n",
       "</style>\n",
       "<table border=\"1\" class=\"dataframe\">\n",
       "  <thead>\n",
       "    <tr style=\"text-align: right;\">\n",
       "      <th></th>\n",
       "      <th>selftext</th>\n",
       "      <th>is_normal</th>\n",
       "      <th>is_suicide</th>\n",
       "    </tr>\n",
       "  </thead>\n",
       "  <tbody>\n",
       "    <tr>\n",
       "      <th>0</th>\n",
       "      <td>https://discord.gg/tfwPhhfrCY  \\n\\nDaily motiv...</td>\n",
       "      <td>1</td>\n",
       "      <td>0</td>\n",
       "    </tr>\n",
       "    <tr>\n",
       "      <th>6</th>\n",
       "      <td>&amp;amp;#x200B;\\n\\nhttps://reddit.com/link/oo7hf7...</td>\n",
       "      <td>1</td>\n",
       "      <td>0</td>\n",
       "    </tr>\n",
       "    <tr>\n",
       "      <th>8</th>\n",
       "      <td>A bit of a bleak start, but I think the exampl...</td>\n",
       "      <td>1</td>\n",
       "      <td>0</td>\n",
       "    </tr>\n",
       "    <tr>\n",
       "      <th>14</th>\n",
       "      <td>I started a new journey almost a year ago to p...</td>\n",
       "      <td>1</td>\n",
       "      <td>0</td>\n",
       "    </tr>\n",
       "    <tr>\n",
       "      <th>19</th>\n",
       "      <td>Persistence is a skill that we cannot go witho...</td>\n",
       "      <td>1</td>\n",
       "      <td>0</td>\n",
       "    </tr>\n",
       "  </tbody>\n",
       "</table>\n",
       "</div>"
      ],
      "text/plain": [
       "                                             selftext  is_normal  is_suicide\n",
       "0   https://discord.gg/tfwPhhfrCY  \\n\\nDaily motiv...          1           0\n",
       "6   &amp;#x200B;\\n\\nhttps://reddit.com/link/oo7hf7...          1           0\n",
       "8   A bit of a bleak start, but I think the exampl...          1           0\n",
       "14  I started a new journey almost a year ago to p...          1           0\n",
       "19  Persistence is a skill that we cannot go witho...          1           0"
      ]
     },
     "execution_count": 103,
     "metadata": {},
     "output_type": "execute_result"
    }
   ],
   "source": [
    "normal.head()"
   ]
  },
  {
   "cell_type": "code",
   "execution_count": 104,
   "metadata": {
    "colab": {
     "base_uri": "https://localhost:8080/"
    },
    "id": "6Gj9y_RJCia8",
    "outputId": "159a10f2-d445-4bbe-8f27-04ee8ed116e6"
   },
   "outputs": [
    {
     "name": "stderr",
     "output_type": "stream",
     "text": [
      "[nltk_data] Downloading package stopwords to /home/sanju/nltk_data...\n",
      "[nltk_data]   Package stopwords is already up-to-date!\n",
      "[nltk_data] Downloading package wordnet to /home/sanju/nltk_data...\n",
      "[nltk_data]   Package wordnet is already up-to-date!\n"
     ]
    }
   ],
   "source": [
    "import nltk\n",
    "nltk.download('stopwords')\n",
    "nltk.download('wordnet')\n",
    "from nltk.tokenize import RegexpTokenizer\n",
    "from nltk.stem import WordNetLemmatizer\n",
    "from nltk.stem.snowball import SnowballStemmer, PorterStemmer\n",
    "from nltk.corpus import stopwords\n",
    "import re"
   ]
  },
  {
   "cell_type": "code",
   "execution_count": 105,
   "metadata": {
    "id": "TMnnTpCPCrxA"
   },
   "outputs": [],
   "source": [
    "def processing_text(series_to_process):\n",
    "    new_list = []\n",
    "    tokenizer = RegexpTokenizer(r'(\\w+)')\n",
    "    lemmatizer = WordNetLemmatizer()\n",
    "    for i in range(len(series_to_process)):\n",
    "        dirty_string = (series_to_process)[i].lower()\n",
    "        words_only = tokenizer.tokenize(dirty_string)\n",
    "        words_only_stem = [lemmatizer.lemmatize(i) for i in words_only]\n",
    "        words_without_stop = [i for i in words_only_stem if i not in stopwords.words('english')]\n",
    "        long_string_clean = ' '.join(word for word in words_without_stop)\n",
    "        new_list.append(long_string_clean)\n",
    "    return new_list"
   ]
  },
  {
   "cell_type": "code",
   "execution_count": 106,
   "metadata": {
    "id": "mIPzYGvzD55C"
   },
   "outputs": [],
   "source": [
    "normal['selftext_clean'] = processing_text(normal['selftext'].values)"
   ]
  },
  {
   "cell_type": "code",
   "execution_count": 107,
   "metadata": {},
   "outputs": [
    {
     "data": {
      "text/html": [
       "<div>\n",
       "<style scoped>\n",
       "    .dataframe tbody tr th:only-of-type {\n",
       "        vertical-align: middle;\n",
       "    }\n",
       "\n",
       "    .dataframe tbody tr th {\n",
       "        vertical-align: top;\n",
       "    }\n",
       "\n",
       "    .dataframe thead th {\n",
       "        text-align: right;\n",
       "    }\n",
       "</style>\n",
       "<table border=\"1\" class=\"dataframe\">\n",
       "  <thead>\n",
       "    <tr style=\"text-align: right;\">\n",
       "      <th></th>\n",
       "      <th>selftext</th>\n",
       "      <th>is_normal</th>\n",
       "      <th>is_suicide</th>\n",
       "      <th>selftext_clean</th>\n",
       "    </tr>\n",
       "  </thead>\n",
       "  <tbody>\n",
       "    <tr>\n",
       "      <th>0</th>\n",
       "      <td>https://discord.gg/tfwPhhfrCY  \\n\\nDaily motiv...</td>\n",
       "      <td>1</td>\n",
       "      <td>0</td>\n",
       "      <td>http discord gg tfwphhfrcy daily motivation im...</td>\n",
       "    </tr>\n",
       "    <tr>\n",
       "      <th>6</th>\n",
       "      <td>&amp;amp;#x200B;\\n\\nhttps://reddit.com/link/oo7hf7...</td>\n",
       "      <td>1</td>\n",
       "      <td>0</td>\n",
       "      <td>amp x200b http reddit com link oo7hf7 video u3...</td>\n",
       "    </tr>\n",
       "    <tr>\n",
       "      <th>8</th>\n",
       "      <td>A bit of a bleak start, but I think the exampl...</td>\n",
       "      <td>1</td>\n",
       "      <td>0</td>\n",
       "      <td>bit bleak start think example hold gt someone ...</td>\n",
       "    </tr>\n",
       "    <tr>\n",
       "      <th>14</th>\n",
       "      <td>I started a new journey almost a year ago to p...</td>\n",
       "      <td>1</td>\n",
       "      <td>0</td>\n",
       "      <td>started new journey almost year ago pick new c...</td>\n",
       "    </tr>\n",
       "    <tr>\n",
       "      <th>19</th>\n",
       "      <td>Persistence is a skill that we cannot go witho...</td>\n",
       "      <td>1</td>\n",
       "      <td>0</td>\n",
       "      <td>persistence skill cannot go without plan exper...</td>\n",
       "    </tr>\n",
       "  </tbody>\n",
       "</table>\n",
       "</div>"
      ],
      "text/plain": [
       "                                             selftext  is_normal  is_suicide  \\\n",
       "0   https://discord.gg/tfwPhhfrCY  \\n\\nDaily motiv...          1           0   \n",
       "6   &amp;#x200B;\\n\\nhttps://reddit.com/link/oo7hf7...          1           0   \n",
       "8   A bit of a bleak start, but I think the exampl...          1           0   \n",
       "14  I started a new journey almost a year ago to p...          1           0   \n",
       "19  Persistence is a skill that we cannot go witho...          1           0   \n",
       "\n",
       "                                       selftext_clean  \n",
       "0   http discord gg tfwphhfrcy daily motivation im...  \n",
       "6   amp x200b http reddit com link oo7hf7 video u3...  \n",
       "8   bit bleak start think example hold gt someone ...  \n",
       "14  started new journey almost year ago pick new c...  \n",
       "19  persistence skill cannot go without plan exper...  "
      ]
     },
     "execution_count": 107,
     "metadata": {},
     "output_type": "execute_result"
    }
   ],
   "source": [
    "normal.head()"
   ]
  },
  {
   "cell_type": "code",
   "execution_count": 108,
   "metadata": {},
   "outputs": [],
   "source": [
    "data = data[['is_normal', 'selftext_clean']]"
   ]
  },
  {
   "cell_type": "code",
   "execution_count": 109,
   "metadata": {},
   "outputs": [],
   "source": [
    "normal = normal[['is_normal', 'selftext_clean']]"
   ]
  },
  {
   "cell_type": "code",
   "execution_count": 110,
   "metadata": {
    "id": "wR8n6ua9EBZL"
   },
   "outputs": [],
   "source": [
    "text = pd.concat([data, normal])"
   ]
  },
  {
   "cell_type": "code",
   "execution_count": 111,
   "metadata": {
    "colab": {
     "base_uri": "https://localhost:8080/",
     "height": 584
    },
    "id": "UHsl5GFDG7TV",
    "outputId": "abcf5096-91ea-4300-d75f-93fe069b38e6"
   },
   "outputs": [
    {
     "data": {
      "text/html": [
       "<div>\n",
       "<style scoped>\n",
       "    .dataframe tbody tr th:only-of-type {\n",
       "        vertical-align: middle;\n",
       "    }\n",
       "\n",
       "    .dataframe tbody tr th {\n",
       "        vertical-align: top;\n",
       "    }\n",
       "\n",
       "    .dataframe thead th {\n",
       "        text-align: right;\n",
       "    }\n",
       "</style>\n",
       "<table border=\"1\" class=\"dataframe\">\n",
       "  <thead>\n",
       "    <tr style=\"text-align: right;\">\n",
       "      <th></th>\n",
       "      <th>is_normal</th>\n",
       "      <th>selftext_clean</th>\n",
       "    </tr>\n",
       "  </thead>\n",
       "  <tbody>\n",
       "    <tr>\n",
       "      <th>0</th>\n",
       "      <td>0</td>\n",
       "      <td>understand people reply immediately op invitat...</td>\n",
       "    </tr>\n",
       "    <tr>\n",
       "      <th>1</th>\n",
       "      <td>0</td>\n",
       "      <td>welcome r depression check post place take mom...</td>\n",
       "    </tr>\n",
       "    <tr>\n",
       "      <th>2</th>\n",
       "      <td>0</td>\n",
       "      <td>tried hang happened like first lost conscious ...</td>\n",
       "    </tr>\n",
       "    <tr>\n",
       "      <th>3</th>\n",
       "      <td>0</td>\n",
       "      <td>30 body feel like im 80 weak fragile feel like...</td>\n",
       "    </tr>\n",
       "    <tr>\n",
       "      <th>4</th>\n",
       "      <td>0</td>\n",
       "      <td>1 want sex 2 want die edit expect post blow ms...</td>\n",
       "    </tr>\n",
       "    <tr>\n",
       "      <th>5</th>\n",
       "      <td>0</td>\n",
       "      <td>ha happened last week week depression also ins...</td>\n",
       "    </tr>\n",
       "    <tr>\n",
       "      <th>6</th>\n",
       "      <td>0</td>\n",
       "      <td>unintelligent lack creativeness also think stu...</td>\n",
       "    </tr>\n",
       "    <tr>\n",
       "      <th>7</th>\n",
       "      <td>0</td>\n",
       "      <td>depressed could walk home work school feel lik...</td>\n",
       "    </tr>\n",
       "    <tr>\n",
       "      <th>8</th>\n",
       "      <td>0</td>\n",
       "      <td>mental health dropped school mom find afterwar...</td>\n",
       "    </tr>\n",
       "    <tr>\n",
       "      <th>9</th>\n",
       "      <td>0</td>\n",
       "      <td>admitting wrong thing painful right going phas...</td>\n",
       "    </tr>\n",
       "    <tr>\n",
       "      <th>10</th>\n",
       "      <td>0</td>\n",
       "      <td>planning end life everything feel like failed ...</td>\n",
       "    </tr>\n",
       "    <tr>\n",
       "      <th>11</th>\n",
       "      <td>0</td>\n",
       "      <td>anyone work place atcually ok take mental heal...</td>\n",
       "    </tr>\n",
       "    <tr>\n",
       "      <th>12</th>\n",
       "      <td>0</td>\n",
       "      <td>know many experienced symptom depression fucki...</td>\n",
       "    </tr>\n",
       "    <tr>\n",
       "      <th>13</th>\n",
       "      <td>0</td>\n",
       "      <td>fucking hard know sensitive wanna cry trivial ...</td>\n",
       "    </tr>\n",
       "    <tr>\n",
       "      <th>14</th>\n",
       "      <td>0</td>\n",
       "      <td>feel like could disappear nobody would notice ...</td>\n",
       "    </tr>\n",
       "    <tr>\n",
       "      <th>15</th>\n",
       "      <td>0</td>\n",
       "      <td>30 year old still lagging behind finding job m...</td>\n",
       "    </tr>\n",
       "    <tr>\n",
       "      <th>16</th>\n",
       "      <td>0</td>\n",
       "      <td>true like anyone anyone want talk hate insult ...</td>\n",
       "    </tr>\n",
       "    <tr>\n",
       "      <th>17</th>\n",
       "      <td>0</td>\n",
       "      <td>good life great parent wonderful sister friend...</td>\n",
       "    </tr>\n",
       "    <tr>\n",
       "      <th>18</th>\n",
       "      <td>0</td>\n",
       "      <td>feel like existing depressed recently girlfrie...</td>\n",
       "    </tr>\n",
       "    <tr>\n",
       "      <th>19</th>\n",
       "      <td>0</td>\n",
       "      <td>23 year old male found life extremely boring t...</td>\n",
       "    </tr>\n",
       "    <tr>\n",
       "      <th>20</th>\n",
       "      <td>0</td>\n",
       "      <td>keep posting reddit thinking somehow help leas...</td>\n",
       "    </tr>\n",
       "    <tr>\n",
       "      <th>21</th>\n",
       "      <td>0</td>\n",
       "      <td>hi name important since childhood severely dep...</td>\n",
       "    </tr>\n",
       "    <tr>\n",
       "      <th>22</th>\n",
       "      <td>0</td>\n",
       "      <td>like title say get text asking start cry happi...</td>\n",
       "    </tr>\n",
       "    <tr>\n",
       "      <th>23</th>\n",
       "      <td>0</td>\n",
       "      <td>maximus came home almost four year ago endurin...</td>\n",
       "    </tr>\n",
       "    <tr>\n",
       "      <th>24</th>\n",
       "      <td>0</td>\n",
       "      <td>almost 10 morning american independence day dr...</td>\n",
       "    </tr>\n",
       "    <tr>\n",
       "      <th>25</th>\n",
       "      <td>0</td>\n",
       "      <td>book wise movie wise music wise soothes make f...</td>\n",
       "    </tr>\n",
       "    <tr>\n",
       "      <th>26</th>\n",
       "      <td>0</td>\n",
       "      <td>ah idk thought let know admitted young adult m...</td>\n",
       "    </tr>\n",
       "    <tr>\n",
       "      <th>27</th>\n",
       "      <td>0</td>\n",
       "      <td>well aware fucked life albeit realise wa time ...</td>\n",
       "    </tr>\n",
       "    <tr>\n",
       "      <th>28</th>\n",
       "      <td>0</td>\n",
       "      <td>every job absolutely fucking despised right cl...</td>\n",
       "    </tr>\n",
       "    <tr>\n",
       "      <th>29</th>\n",
       "      <td>0</td>\n",
       "      <td>suffering depression anxiety mental illness 11...</td>\n",
       "    </tr>\n",
       "    <tr>\n",
       "      <th>...</th>\n",
       "      <td>...</td>\n",
       "      <td>...</td>\n",
       "    </tr>\n",
       "    <tr>\n",
       "      <th>4058</th>\n",
       "      <td>1</td>\n",
       "      <td>series good girl okay level stupid woman catch...</td>\n",
       "    </tr>\n",
       "    <tr>\n",
       "      <th>4059</th>\n",
       "      <td>1</td>\n",
       "      <td>rewatching married child shortage controversy ...</td>\n",
       "    </tr>\n",
       "    <tr>\n",
       "      <th>4060</th>\n",
       "      <td>1</td>\n",
       "      <td>watched little earlier today recently turned 3...</td>\n",
       "    </tr>\n",
       "    <tr>\n",
       "      <th>4061</th>\n",
       "      <td>1</td>\n",
       "      <td>ha good imdb rating superman lois imdb http ww...</td>\n",
       "    </tr>\n",
       "    <tr>\n",
       "      <th>4062</th>\n",
       "      <td>1</td>\n",
       "      <td>would show house like opening theme bottle pil...</td>\n",
       "    </tr>\n",
       "    <tr>\n",
       "      <th>4064</th>\n",
       "      <td>1</td>\n",
       "      <td>watching first time man season 2 man voice cri...</td>\n",
       "    </tr>\n",
       "    <tr>\n",
       "      <th>4067</th>\n",
       "      <td>1</td>\n",
       "      <td>always thought like thought line delivery ther...</td>\n",
       "    </tr>\n",
       "    <tr>\n",
       "      <th>4070</th>\n",
       "      <td>1</td>\n",
       "      <td>almost done s1 surprised good wire breaking ba...</td>\n",
       "    </tr>\n",
       "    <tr>\n",
       "      <th>4075</th>\n",
       "      <td>1</td>\n",
       "      <td>hey guy ha anyone seen el barco creator la cas...</td>\n",
       "    </tr>\n",
       "    <tr>\n",
       "      <th>4076</th>\n",
       "      <td>1</td>\n",
       "      <td>show adore binge right away remember discovere...</td>\n",
       "    </tr>\n",
       "    <tr>\n",
       "      <th>4078</th>\n",
       "      <td>1</td>\n",
       "      <td>terrible acting terrible casting terrible char...</td>\n",
       "    </tr>\n",
       "    <tr>\n",
       "      <th>4080</th>\n",
       "      <td>1</td>\n",
       "      <td>watching sweet tooth thinking bunch character ...</td>\n",
       "    </tr>\n",
       "    <tr>\n",
       "      <th>4083</th>\n",
       "      <td>1</td>\n",
       "      <td>finished watching house season 3 episode 12 on...</td>\n",
       "    </tr>\n",
       "    <tr>\n",
       "      <th>4084</th>\n",
       "      <td>1</td>\n",
       "      <td>love talking cartoon halfway housebroken first...</td>\n",
       "    </tr>\n",
       "    <tr>\n",
       "      <th>4085</th>\n",
       "      <td>1</td>\n",
       "      <td>really like detective show mare easttown came ...</td>\n",
       "    </tr>\n",
       "    <tr>\n",
       "      <th>4090</th>\n",
       "      <td>1</td>\n",
       "      <td>seen superhero style movie since around 2015 2...</td>\n",
       "    </tr>\n",
       "    <tr>\n",
       "      <th>4091</th>\n",
       "      <td>1</td>\n",
       "      <td>looking something watch sure worth time let in...</td>\n",
       "    </tr>\n",
       "    <tr>\n",
       "      <th>4093</th>\n",
       "      <td>1</td>\n",
       "      <td>someone explain true detective get actually ki...</td>\n",
       "    </tr>\n",
       "    <tr>\n",
       "      <th>4094</th>\n",
       "      <td>1</td>\n",
       "      <td>mine 1 patty cannon 2 larissa schuster 3 amy b...</td>\n",
       "    </tr>\n",
       "    <tr>\n",
       "      <th>4097</th>\n",
       "      <td>1</td>\n",
       "      <td>watched considerable amount tv show life one c...</td>\n",
       "    </tr>\n",
       "    <tr>\n",
       "      <th>4099</th>\n",
       "      <td>1</td>\n",
       "      <td>apology long post find series ha celebrated wi...</td>\n",
       "    </tr>\n",
       "    <tr>\n",
       "      <th>4101</th>\n",
       "      <td>1</td>\n",
       "      <td>played mathilda imdb showing listing seen look...</td>\n",
       "    </tr>\n",
       "    <tr>\n",
       "      <th>4113</th>\n",
       "      <td>1</td>\n",
       "      <td>happy found show wa expecting another okayish ...</td>\n",
       "    </tr>\n",
       "    <tr>\n",
       "      <th>4114</th>\n",
       "      <td>1</td>\n",
       "      <td>comment sorted new default feel free describe ...</td>\n",
       "    </tr>\n",
       "    <tr>\n",
       "      <th>4115</th>\n",
       "      <td>1</td>\n",
       "      <td>many talking kevin smith master universe inter...</td>\n",
       "    </tr>\n",
       "    <tr>\n",
       "      <th>4119</th>\n",
       "      <td>1</td>\n",
       "      <td>read seinfeld soundtrack wa released first tim...</td>\n",
       "    </tr>\n",
       "    <tr>\n",
       "      <th>4121</th>\n",
       "      <td>1</td>\n",
       "      <td>opinion end f king world great cliffhanger end...</td>\n",
       "    </tr>\n",
       "    <tr>\n",
       "      <th>4124</th>\n",
       "      <td>1</td>\n",
       "      <td>opinionated take two show wa surprised enjoy e...</td>\n",
       "    </tr>\n",
       "    <tr>\n",
       "      <th>4127</th>\n",
       "      <td>1</td>\n",
       "      <td>think show whose line anyway use watch show ki...</td>\n",
       "    </tr>\n",
       "    <tr>\n",
       "      <th>4137</th>\n",
       "      <td>1</td>\n",
       "      <td>plan run three season ending mind high budget ...</td>\n",
       "    </tr>\n",
       "  </tbody>\n",
       "</table>\n",
       "<p>3917 rows × 2 columns</p>\n",
       "</div>"
      ],
      "text/plain": [
       "      is_normal                                     selftext_clean\n",
       "0             0  understand people reply immediately op invitat...\n",
       "1             0  welcome r depression check post place take mom...\n",
       "2             0  tried hang happened like first lost conscious ...\n",
       "3             0  30 body feel like im 80 weak fragile feel like...\n",
       "4             0  1 want sex 2 want die edit expect post blow ms...\n",
       "5             0  ha happened last week week depression also ins...\n",
       "6             0  unintelligent lack creativeness also think stu...\n",
       "7             0  depressed could walk home work school feel lik...\n",
       "8             0  mental health dropped school mom find afterwar...\n",
       "9             0  admitting wrong thing painful right going phas...\n",
       "10            0  planning end life everything feel like failed ...\n",
       "11            0  anyone work place atcually ok take mental heal...\n",
       "12            0  know many experienced symptom depression fucki...\n",
       "13            0  fucking hard know sensitive wanna cry trivial ...\n",
       "14            0  feel like could disappear nobody would notice ...\n",
       "15            0  30 year old still lagging behind finding job m...\n",
       "16            0  true like anyone anyone want talk hate insult ...\n",
       "17            0  good life great parent wonderful sister friend...\n",
       "18            0  feel like existing depressed recently girlfrie...\n",
       "19            0  23 year old male found life extremely boring t...\n",
       "20            0  keep posting reddit thinking somehow help leas...\n",
       "21            0  hi name important since childhood severely dep...\n",
       "22            0  like title say get text asking start cry happi...\n",
       "23            0  maximus came home almost four year ago endurin...\n",
       "24            0  almost 10 morning american independence day dr...\n",
       "25            0  book wise movie wise music wise soothes make f...\n",
       "26            0  ah idk thought let know admitted young adult m...\n",
       "27            0  well aware fucked life albeit realise wa time ...\n",
       "28            0  every job absolutely fucking despised right cl...\n",
       "29            0  suffering depression anxiety mental illness 11...\n",
       "...         ...                                                ...\n",
       "4058          1  series good girl okay level stupid woman catch...\n",
       "4059          1  rewatching married child shortage controversy ...\n",
       "4060          1  watched little earlier today recently turned 3...\n",
       "4061          1  ha good imdb rating superman lois imdb http ww...\n",
       "4062          1  would show house like opening theme bottle pil...\n",
       "4064          1  watching first time man season 2 man voice cri...\n",
       "4067          1  always thought like thought line delivery ther...\n",
       "4070          1  almost done s1 surprised good wire breaking ba...\n",
       "4075          1  hey guy ha anyone seen el barco creator la cas...\n",
       "4076          1  show adore binge right away remember discovere...\n",
       "4078          1  terrible acting terrible casting terrible char...\n",
       "4080          1  watching sweet tooth thinking bunch character ...\n",
       "4083          1  finished watching house season 3 episode 12 on...\n",
       "4084          1  love talking cartoon halfway housebroken first...\n",
       "4085          1  really like detective show mare easttown came ...\n",
       "4090          1  seen superhero style movie since around 2015 2...\n",
       "4091          1  looking something watch sure worth time let in...\n",
       "4093          1  someone explain true detective get actually ki...\n",
       "4094          1  mine 1 patty cannon 2 larissa schuster 3 amy b...\n",
       "4097          1  watched considerable amount tv show life one c...\n",
       "4099          1  apology long post find series ha celebrated wi...\n",
       "4101          1  played mathilda imdb showing listing seen look...\n",
       "4113          1  happy found show wa expecting another okayish ...\n",
       "4114          1  comment sorted new default feel free describe ...\n",
       "4115          1  many talking kevin smith master universe inter...\n",
       "4119          1  read seinfeld soundtrack wa released first tim...\n",
       "4121          1  opinion end f king world great cliffhanger end...\n",
       "4124          1  opinionated take two show wa surprised enjoy e...\n",
       "4127          1  think show whose line anyway use watch show ki...\n",
       "4137          1  plan run three season ending mind high budget ...\n",
       "\n",
       "[3917 rows x 2 columns]"
      ]
     },
     "execution_count": 111,
     "metadata": {},
     "output_type": "execute_result"
    }
   ],
   "source": [
    "text"
   ]
  },
  {
   "cell_type": "code",
   "execution_count": 112,
   "metadata": {},
   "outputs": [],
   "source": [
    "text = text.dropna()"
   ]
  },
  {
   "cell_type": "code",
   "execution_count": 113,
   "metadata": {
    "id": "XD203KjKE2SO"
   },
   "outputs": [],
   "source": [
    "X = text['selftext_clean']\n",
    "y = text['is_normal']"
   ]
  },
  {
   "cell_type": "code",
   "execution_count": 114,
   "metadata": {
    "colab": {
     "base_uri": "https://localhost:8080/"
    },
    "id": "ack1UtcCFJ1r",
    "outputId": "967bcb15-16a4-43ad-d89f-b29517f398f6"
   },
   "outputs": [
    {
     "data": {
      "text/plain": [
       "is_normal                                                         0\n",
       "selftext_clean    understand people reply immediately op invitat...\n",
       "Name: 0, dtype: object"
      ]
     },
     "execution_count": 114,
     "metadata": {},
     "output_type": "execute_result"
    }
   ],
   "source": [
    "text.iloc[0]"
   ]
  },
  {
   "cell_type": "code",
   "execution_count": 115,
   "metadata": {
    "id": "lsl-tISuE-6C"
   },
   "outputs": [],
   "source": [
    "from sklearn.model_selection import train_test_split"
   ]
  },
  {
   "cell_type": "code",
   "execution_count": 116,
   "metadata": {
    "id": "3hTiLEoQFDMS"
   },
   "outputs": [],
   "source": [
    "X_train, X_test, y_train, y_test = train_test_split(X, y, test_size=0.25, random_state=42, stratify=y)"
   ]
  },
  {
   "cell_type": "code",
   "execution_count": 117,
   "metadata": {
    "id": "76nUinFFHMN7"
   },
   "outputs": [],
   "source": [
    "from sklearn.feature_extraction.text import CountVectorizer, HashingVectorizer, TfidfVectorizer"
   ]
  },
  {
   "cell_type": "code",
   "execution_count": 118,
   "metadata": {
    "colab": {
     "base_uri": "https://localhost:8080/"
    },
    "id": "wo5Z4i9yFGFC",
    "outputId": "08b87ebf-12b4-4497-b30e-1aa6d4f5e8a1"
   },
   "outputs": [
    {
     "data": {
      "text/plain": [
       "CountVectorizer()"
      ]
     },
     "execution_count": 118,
     "metadata": {},
     "output_type": "execute_result"
    }
   ],
   "source": [
    "cvec = CountVectorizer()\n",
    "cvec.fit(X_train)"
   ]
  },
  {
   "cell_type": "code",
   "execution_count": 119,
   "metadata": {
    "id": "Duk08GsKHJF6"
   },
   "outputs": [],
   "source": [
    "X_train_vec = pd.DataFrame(cvec.transform(X_train).todense(), columns=cvec.get_feature_names())\n",
    "X_test_vec = pd.DataFrame(cvec.transform(X_test).todense(), columns=cvec.get_feature_names())"
   ]
  },
  {
   "cell_type": "code",
   "execution_count": 120,
   "metadata": {
    "id": "MyeqVh4MIO5V"
   },
   "outputs": [],
   "source": [
    "from sklearn.linear_model import LogisticRegression\n",
    "from sklearn.neighbors import KNeighborsClassifier\n",
    "from sklearn.tree import DecisionTreeClassifier\n",
    "from sklearn.ensemble import RandomForestClassifier, AdaBoostClassifier, ExtraTreesClassifier, GradientBoostingClassifier\n",
    "from sklearn.naive_bayes import MultinomialNB\n",
    "from sklearn.ensemble import RandomForestClassifier\n",
    "from sklearn.metrics import confusion_matrix, classification_report, accuracy_score, roc_auc_score, f1_score, precision_score, recall_score"
   ]
  },
  {
   "cell_type": "code",
   "execution_count": 121,
   "metadata": {
    "id": "k2VdPPfhID-C"
   },
   "outputs": [],
   "source": [
    "rndclf = RandomForestClassifier()"
   ]
  },
  {
   "cell_type": "code",
   "execution_count": 122,
   "metadata": {
    "colab": {
     "base_uri": "https://localhost:8080/"
    },
    "id": "KKHfnL2yIHAi",
    "outputId": "61c3f8d7-726e-40a3-ecb1-6beaf373dcb7"
   },
   "outputs": [
    {
     "data": {
      "text/plain": [
       "RandomForestClassifier()"
      ]
     },
     "execution_count": 122,
     "metadata": {},
     "output_type": "execute_result"
    }
   ],
   "source": [
    "rndclf.fit(X_train_vec.values, y_train.values)"
   ]
  },
  {
   "cell_type": "code",
   "execution_count": 123,
   "metadata": {
    "id": "f3IkLzq-ITni"
   },
   "outputs": [],
   "source": [
    "pred = rndclf.predict(X_test_vec.values)"
   ]
  },
  {
   "cell_type": "code",
   "execution_count": 124,
   "metadata": {
    "colab": {
     "base_uri": "https://localhost:8080/"
    },
    "id": "rJ6K3qtbIWrr",
    "outputId": "58e39ef1-159f-4d8c-f071-b7edb36e88c2"
   },
   "outputs": [
    {
     "data": {
      "text/plain": [
       "0.8130745658835546"
      ]
     },
     "execution_count": 124,
     "metadata": {},
     "output_type": "execute_result"
    }
   ],
   "source": [
    "rndclf.score(X_test_vec.values, y_test)"
   ]
  },
  {
   "cell_type": "code",
   "execution_count": 125,
   "metadata": {
    "colab": {
     "base_uri": "https://localhost:8080/"
    },
    "id": "88sCrHmrIZwL",
    "outputId": "890f85ca-dada-4250-f59c-e6022506cf90"
   },
   "outputs": [
    {
     "data": {
      "text/plain": [
       "1.0"
      ]
     },
     "execution_count": 125,
     "metadata": {},
     "output_type": "execute_result"
    }
   ],
   "source": [
    "rndclf.score(X_train_vec.values, y_train)"
   ]
  },
  {
   "cell_type": "code",
   "execution_count": 126,
   "metadata": {
    "id": "TN7kx0uqIhsj"
   },
   "outputs": [],
   "source": [
    "pred_proba = [i[1] for i in rndclf.predict_proba(X_test_vec.values)]"
   ]
  },
  {
   "cell_type": "code",
   "execution_count": 127,
   "metadata": {
    "colab": {
     "base_uri": "https://localhost:8080/"
    },
    "id": "oK4zOTTeIn47",
    "outputId": "8c1ddf76-ca56-4f4c-9f80-a8fbc4fd784b"
   },
   "outputs": [
    {
     "data": {
      "text/plain": [
       "0.9281242696404127"
      ]
     },
     "execution_count": 127,
     "metadata": {},
     "output_type": "execute_result"
    }
   ],
   "source": [
    "roc_auc_score(y_test, pred_proba)"
   ]
  },
  {
   "cell_type": "code",
   "execution_count": 128,
   "metadata": {
    "id": "eDCQ5G5SI06r"
   },
   "outputs": [],
   "source": [
    "tn, tp, fn, fp = confusion_matrix(y_test, pred).ravel()"
   ]
  },
  {
   "cell_type": "code",
   "execution_count": 129,
   "metadata": {
    "id": "UKxiCFqmI4G7"
   },
   "outputs": [],
   "source": [
    "classi_dict = classification_report(y_test, pred)"
   ]
  },
  {
   "cell_type": "code",
   "execution_count": 130,
   "metadata": {
    "colab": {
     "base_uri": "https://localhost:8080/"
    },
    "id": "_JAeG5zYI6Ur",
    "outputId": "0bf9da05-6fb2-4966-e0c3-276a4d5c7d72"
   },
   "outputs": [
    {
     "name": "stdout",
     "output_type": "stream",
     "text": [
      "              precision    recall  f1-score   support\n",
      "\n",
      "           0       0.77      0.89      0.83       491\n",
      "           1       0.87      0.73      0.80       488\n",
      "\n",
      "    accuracy                           0.81       979\n",
      "   macro avg       0.82      0.81      0.81       979\n",
      "weighted avg       0.82      0.81      0.81       979\n",
      "\n"
     ]
    }
   ],
   "source": [
    "print(classi_dict)"
   ]
  },
  {
   "cell_type": "code",
   "execution_count": 131,
   "metadata": {
    "colab": {
     "base_uri": "https://localhost:8080/"
    },
    "id": "4vj49HwLI8uT",
    "outputId": "14b00694-a17a-491d-fe50-e206a5d8eab2"
   },
   "outputs": [
    {
     "data": {
      "text/plain": [
       "1109    everyday daydream way take life everything wou...\n",
       "4007    measure entire life tv show show ha different ...\n",
       "3026    wa excited even hit joke wa exactly like dwigh...\n",
       "1933    u feel like u human communicate friend family ...\n",
       "877     leading teambuilding tomorrow group people nev...\n",
       "Name: selftext_clean, dtype: object"
      ]
     },
     "execution_count": 131,
     "metadata": {},
     "output_type": "execute_result"
    }
   ],
   "source": [
    "X_test[:5]"
   ]
  },
  {
   "cell_type": "code",
   "execution_count": 132,
   "metadata": {
    "colab": {
     "base_uri": "https://localhost:8080/",
     "height": 251
    },
    "id": "Hk9dSYcPRiEU",
    "outputId": "2b9779af-c8bc-4ddb-bdb4-2724d95f0ecb"
   },
   "outputs": [
    {
     "data": {
      "text/html": [
       "<div>\n",
       "<style scoped>\n",
       "    .dataframe tbody tr th:only-of-type {\n",
       "        vertical-align: middle;\n",
       "    }\n",
       "\n",
       "    .dataframe tbody tr th {\n",
       "        vertical-align: top;\n",
       "    }\n",
       "\n",
       "    .dataframe thead th {\n",
       "        text-align: right;\n",
       "    }\n",
       "</style>\n",
       "<table border=\"1\" class=\"dataframe\">\n",
       "  <thead>\n",
       "    <tr style=\"text-align: right;\">\n",
       "      <th></th>\n",
       "      <th>00</th>\n",
       "      <th>000</th>\n",
       "      <th>00am</th>\n",
       "      <th>00pm</th>\n",
       "      <th>00s</th>\n",
       "      <th>01</th>\n",
       "      <th>02f5xwptrho</th>\n",
       "      <th>03</th>\n",
       "      <th>04d07a40</th>\n",
       "      <th>06</th>\n",
       "      <th>...</th>\n",
       "      <th>zoned</th>\n",
       "      <th>zoning</th>\n",
       "      <th>zoo</th>\n",
       "      <th>zoom</th>\n",
       "      <th>zrbl0gpbm4o</th>\n",
       "      <th>zs2ybt6</th>\n",
       "      <th>zucchini</th>\n",
       "      <th>𝙏𝙤𝙤𝙩</th>\n",
       "      <th>𝙘𝙤𝙢𝙢𝙤𝙣</th>\n",
       "      <th>𝙞𝙣</th>\n",
       "    </tr>\n",
       "  </thead>\n",
       "  <tbody>\n",
       "    <tr>\n",
       "      <th>0</th>\n",
       "      <td>0</td>\n",
       "      <td>0</td>\n",
       "      <td>0</td>\n",
       "      <td>0</td>\n",
       "      <td>0</td>\n",
       "      <td>0</td>\n",
       "      <td>0</td>\n",
       "      <td>0</td>\n",
       "      <td>0</td>\n",
       "      <td>0</td>\n",
       "      <td>...</td>\n",
       "      <td>0</td>\n",
       "      <td>0</td>\n",
       "      <td>0</td>\n",
       "      <td>0</td>\n",
       "      <td>0</td>\n",
       "      <td>0</td>\n",
       "      <td>0</td>\n",
       "      <td>0</td>\n",
       "      <td>0</td>\n",
       "      <td>0</td>\n",
       "    </tr>\n",
       "    <tr>\n",
       "      <th>1</th>\n",
       "      <td>0</td>\n",
       "      <td>0</td>\n",
       "      <td>0</td>\n",
       "      <td>0</td>\n",
       "      <td>0</td>\n",
       "      <td>0</td>\n",
       "      <td>0</td>\n",
       "      <td>0</td>\n",
       "      <td>0</td>\n",
       "      <td>0</td>\n",
       "      <td>...</td>\n",
       "      <td>0</td>\n",
       "      <td>0</td>\n",
       "      <td>0</td>\n",
       "      <td>0</td>\n",
       "      <td>0</td>\n",
       "      <td>0</td>\n",
       "      <td>0</td>\n",
       "      <td>0</td>\n",
       "      <td>0</td>\n",
       "      <td>0</td>\n",
       "    </tr>\n",
       "    <tr>\n",
       "      <th>2</th>\n",
       "      <td>0</td>\n",
       "      <td>0</td>\n",
       "      <td>0</td>\n",
       "      <td>0</td>\n",
       "      <td>0</td>\n",
       "      <td>0</td>\n",
       "      <td>0</td>\n",
       "      <td>0</td>\n",
       "      <td>0</td>\n",
       "      <td>0</td>\n",
       "      <td>...</td>\n",
       "      <td>0</td>\n",
       "      <td>0</td>\n",
       "      <td>0</td>\n",
       "      <td>0</td>\n",
       "      <td>0</td>\n",
       "      <td>0</td>\n",
       "      <td>0</td>\n",
       "      <td>0</td>\n",
       "      <td>0</td>\n",
       "      <td>0</td>\n",
       "    </tr>\n",
       "    <tr>\n",
       "      <th>3</th>\n",
       "      <td>0</td>\n",
       "      <td>0</td>\n",
       "      <td>0</td>\n",
       "      <td>0</td>\n",
       "      <td>0</td>\n",
       "      <td>0</td>\n",
       "      <td>0</td>\n",
       "      <td>0</td>\n",
       "      <td>0</td>\n",
       "      <td>0</td>\n",
       "      <td>...</td>\n",
       "      <td>0</td>\n",
       "      <td>0</td>\n",
       "      <td>0</td>\n",
       "      <td>0</td>\n",
       "      <td>0</td>\n",
       "      <td>0</td>\n",
       "      <td>0</td>\n",
       "      <td>0</td>\n",
       "      <td>0</td>\n",
       "      <td>0</td>\n",
       "    </tr>\n",
       "    <tr>\n",
       "      <th>4</th>\n",
       "      <td>0</td>\n",
       "      <td>0</td>\n",
       "      <td>0</td>\n",
       "      <td>0</td>\n",
       "      <td>0</td>\n",
       "      <td>0</td>\n",
       "      <td>0</td>\n",
       "      <td>0</td>\n",
       "      <td>0</td>\n",
       "      <td>0</td>\n",
       "      <td>...</td>\n",
       "      <td>0</td>\n",
       "      <td>0</td>\n",
       "      <td>0</td>\n",
       "      <td>0</td>\n",
       "      <td>0</td>\n",
       "      <td>0</td>\n",
       "      <td>0</td>\n",
       "      <td>0</td>\n",
       "      <td>0</td>\n",
       "      <td>0</td>\n",
       "    </tr>\n",
       "  </tbody>\n",
       "</table>\n",
       "<p>5 rows × 13066 columns</p>\n",
       "</div>"
      ],
      "text/plain": [
       "   00  000  00am  00pm  00s  01  02f5xwptrho  03  04d07a40  06  ...  zoned  \\\n",
       "0   0    0     0     0    0   0            0   0         0   0  ...      0   \n",
       "1   0    0     0     0    0   0            0   0         0   0  ...      0   \n",
       "2   0    0     0     0    0   0            0   0         0   0  ...      0   \n",
       "3   0    0     0     0    0   0            0   0         0   0  ...      0   \n",
       "4   0    0     0     0    0   0            0   0         0   0  ...      0   \n",
       "\n",
       "   zoning  zoo  zoom  zrbl0gpbm4o  zs2ybt6  zucchini  𝙏𝙤𝙤𝙩  𝙘𝙤𝙢𝙢𝙤𝙣  𝙞𝙣  \n",
       "0       0    0     0            0        0         0     0       0   0  \n",
       "1       0    0     0            0        0         0     0       0   0  \n",
       "2       0    0     0            0        0         0     0       0   0  \n",
       "3       0    0     0            0        0         0     0       0   0  \n",
       "4       0    0     0            0        0         0     0       0   0  \n",
       "\n",
       "[5 rows x 13066 columns]"
      ]
     },
     "execution_count": 132,
     "metadata": {},
     "output_type": "execute_result"
    }
   ],
   "source": [
    "X_test_vec[:5]"
   ]
  },
  {
   "cell_type": "code",
   "execution_count": 133,
   "metadata": {
    "id": "wDezQJ1ORPCd"
   },
   "outputs": [],
   "source": [
    "pred = rndclf.predict(X_test_vec.values[:5])"
   ]
  },
  {
   "cell_type": "code",
   "execution_count": 134,
   "metadata": {
    "colab": {
     "base_uri": "https://localhost:8080/"
    },
    "id": "kOnHMaOXRbxO",
    "outputId": "46bd95e7-1202-404a-cfa2-90e250bb423d"
   },
   "outputs": [
    {
     "data": {
      "text/plain": [
       "array([0, 0, 1, 0, 1])"
      ]
     },
     "execution_count": 134,
     "metadata": {},
     "output_type": "execute_result"
    }
   ],
   "source": [
    "pred"
   ]
  },
  {
   "cell_type": "code",
   "execution_count": 135,
   "metadata": {
    "colab": {
     "base_uri": "https://localhost:8080/"
    },
    "id": "EozC0zm4RsPe",
    "outputId": "2ad9337e-f85b-4c2a-92da-fbb42205e87e"
   },
   "outputs": [
    {
     "data": {
      "text/plain": [
       "1109    0\n",
       "4007    1\n",
       "3026    1\n",
       "1933    0\n",
       "877     1\n",
       "Name: is_normal, dtype: int64"
      ]
     },
     "execution_count": 135,
     "metadata": {},
     "output_type": "execute_result"
    }
   ],
   "source": [
    "y_test[:5]"
   ]
  },
  {
   "cell_type": "code",
   "execution_count": 136,
   "metadata": {
    "colab": {
     "base_uri": "https://localhost:8080/",
     "height": 53
    },
    "id": "xvDyLcIWipkf",
    "outputId": "3f552cf2-698c-47f7-87a0-e1eaa4010fca"
   },
   "outputs": [
    {
     "data": {
      "text/plain": [
       "'everyday daydream way take life everything would stop'"
      ]
     },
     "execution_count": 136,
     "metadata": {},
     "output_type": "execute_result"
    }
   ],
   "source": [
    "X_test.iloc[0]"
   ]
  },
  {
   "cell_type": "code",
   "execution_count": 137,
   "metadata": {
    "id": "XZQq2eLqjAyY"
   },
   "outputs": [
    {
     "data": {
      "text/plain": [
       "'measure entire life tv show show ha different vibe become engrossed storyline character even actor outside show recently finished orange new black 7 month obsessing stalking actor online watching work watching every behind scene video interview actor etc life revolved around show actor wa constantly mind especially since covid keep u home finished show seen every possible thing related show started watching criminal mind 1 season feel weird like butterfly stomach moved oitnb era experiencing new vibe new character get attached hard explain feeling oitnb wa comforting move even though boring continue rewatching show felt part fandom especially reddit watching orange cm vibe anyone else experience new vibe watching new show finishing old one happens every time finish good one start good one'"
      ]
     },
     "execution_count": 137,
     "metadata": {},
     "output_type": "execute_result"
    }
   ],
   "source": [
    "X_test.iloc[1]"
   ]
  },
  {
   "cell_type": "code",
   "execution_count": 138,
   "metadata": {},
   "outputs": [
    {
     "data": {
      "text/plain": [
       "'wa excited even hit joke wa exactly like dwight said updog'"
      ]
     },
     "execution_count": 138,
     "metadata": {},
     "output_type": "execute_result"
    }
   ],
   "source": [
    "X_test.iloc[2]"
   ]
  },
  {
   "cell_type": "code",
   "execution_count": 139,
   "metadata": {},
   "outputs": [
    {
     "data": {
      "text/plain": [
       "'u feel like u human communicate friend family five minute u like nah want kill self burden probably want hear talking nonsense go room shut'"
      ]
     },
     "execution_count": 139,
     "metadata": {},
     "output_type": "execute_result"
    }
   ],
   "source": [
    "X_test.iloc[3]"
   ]
  },
  {
   "cell_type": "code",
   "execution_count": 140,
   "metadata": {},
   "outputs": [
    {
     "data": {
      "text/plain": [
       "'leading teambuilding tomorrow group people never met one introductory game play called coffee tea rule simple game master asks question people go side corresponds preference example game master say prefer coffee go left prefer tea go right everyone go side staying middle preferring neither decide also option game despite simplicity lot fun great way know question already summer winter cat dog sea mountain want ask help think interesting question used game'"
      ]
     },
     "execution_count": 140,
     "metadata": {},
     "output_type": "execute_result"
    }
   ],
   "source": [
    "X_test.iloc[4]"
   ]
  },
  {
   "cell_type": "code",
   "execution_count": null,
   "metadata": {},
   "outputs": [],
   "source": []
  }
 ],
 "metadata": {
  "accelerator": "GPU",
  "colab": {
   "name": "new01.ipynb",
   "provenance": []
  },
  "kernelspec": {
   "display_name": "Python 3 (ipykernel)",
   "language": "python",
   "name": "python3"
  },
  "language_info": {
   "codemirror_mode": {
    "name": "ipython",
    "version": 3
   },
   "file_extension": ".py",
   "mimetype": "text/x-python",
   "name": "python",
   "nbconvert_exporter": "python",
   "pygments_lexer": "ipython3",
   "version": "3.7.6"
  }
 },
 "nbformat": 4,
 "nbformat_minor": 4
}
